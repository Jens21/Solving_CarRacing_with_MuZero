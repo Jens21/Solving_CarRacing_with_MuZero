{
 "cells": [
  {
   "cell_type": "code",
   "execution_count": 8,
   "id": "2414aba5-a96c-4be4-901a-fc0e815b3f35",
   "metadata": {},
   "outputs": [
    {
     "name": "stdout",
     "output_type": "stream",
     "text": [
      "[None, None, None, None, None, None, None, None, None, None, None, None, None, None, None, None, None, None, None, None, None, None, None]\n",
      "0.13339924812316895\n",
      "tensor(1.0000)\n"
     ]
    }
   ],
   "source": [
    "import torch as th\n",
    "import time\n",
    "import torch.multiprocessing as mp\n",
    "import numpy as np\n",
    "\n",
    "class SharedMemory():\n",
    "    \n",
    "    lock = mp.Lock()\n",
    "    dic = mp.Manager().dict()\n",
    "    \n",
    "    def __init__(self):\n",
    "        self.mem = th.empty((10_0, 100, 96, 96)).float()\n",
    "        self.mem.share_memory_()\n",
    "        \n",
    "    def set_mem(self, mem):\n",
    "        self.lock.acquire()\n",
    "        for i in range(self.mem.shape[1]):\n",
    "            self.mem[0,i]=mem[i]\n",
    "        self.lock.release()\n",
    "\n",
    "mem = SharedMemory()\n",
    "    \n",
    "def f(x):\n",
    "    model = th.nn.Linear(100,10)\n",
    "    it = th.rand(100, 96, 96).float()\n",
    "    mem.set_mem(it)\n",
    "    # mem.set_dic(model.state_dict())\n",
    "\n",
    "begin_time = time.time()\n",
    "with mp.Pool(23) as pool:\n",
    "    print(pool.map(f, np.arange(23).tolist()))\n",
    "print(time.time()-begin_time)\n",
    "print(mem.mem.max())"
   ]
  },
  {
   "cell_type": "code",
   "execution_count": null,
   "id": "05254b21-6ea6-4f54-8f5b-ed339f3bb80d",
   "metadata": {},
   "outputs": [],
   "source": []
  }
 ],
 "metadata": {
  "kernelspec": {
   "display_name": "Python 3 (ipykernel)",
   "language": "python",
   "name": "python3"
  },
  "language_info": {
   "codemirror_mode": {
    "name": "ipython",
    "version": 3
   },
   "file_extension": ".py",
   "mimetype": "text/x-python",
   "name": "python",
   "nbconvert_exporter": "python",
   "pygments_lexer": "ipython3",
   "version": "3.8.10"
  }
 },
 "nbformat": 4,
 "nbformat_minor": 5
}
